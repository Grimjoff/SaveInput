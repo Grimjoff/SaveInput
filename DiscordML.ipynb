{
 "cells": [
  {
   "cell_type": "markdown",
   "source": [
    "# Analyzing Discord Messages "
   ],
   "metadata": {
    "collapsed": false
   },
   "id": "5e5c5034d38a7d60"
  },
  {
   "cell_type": "markdown",
   "source": [
    "Import df and filter out wrong Processes"
   ],
   "metadata": {
    "collapsed": false
   },
   "id": "30473cd532901e51"
  },
  {
   "cell_type": "code",
   "execution_count": null,
   "outputs": [],
   "source": [
    "import pandas as pd\n",
    "import matplotlib.pyplot as plt\n",
    "\n",
    "df = pd.read_csv(\"dist\\input_log.csv\")\n",
    "df = df[df['Process'] == 'Discord.exe']\n",
    "df.head()"
   ],
   "metadata": {
    "collapsed": true
   },
   "id": "initial_id"
  },
  {
   "cell_type": "markdown",
   "source": [
    "Check all unique values -> See which ones we want to sort out"
   ],
   "metadata": {
    "collapsed": false
   },
   "id": "f990721dddae48da"
  },
  {
   "cell_type": "code",
   "execution_count": null,
   "outputs": [],
   "source": [
    "df[\"Button\"].unique()"
   ],
   "metadata": {
    "collapsed": false
   },
   "id": "60cae8cdee29c411"
  },
  {
   "cell_type": "markdown",
   "source": [
    "## Plotting amount of presses per Button"
   ],
   "metadata": {
    "collapsed": false
   },
   "id": "6f6ebd648271f770"
  },
  {
   "cell_type": "markdown",
   "source": [
    "Creating a List of buttons we do not care about, basically all non letters/numbers that don't show up in actual messages + symbols"
   ],
   "metadata": {
    "collapsed": false
   },
   "id": "b3147cdf55a2e973"
  },
  {
   "cell_type": "code",
   "execution_count": null,
   "outputs": [],
   "source": [
    "# Non letter character list\n",
    "notWanted = [\"alt\", \"LC\", \"RC\", \"CTRL\", \"esc\", \"Tab\", \"SH\", \"Enter\", \"<-\", \" \", '\\'', '.','?','!']\n",
    "# Create lettercount_df = Filter out the notWanted list\n",
    "lettercount_df = df[~df[\"Button\"].isin(notWanted)]\n",
    "lettercount_df['Button'] = lettercount_df['Button'].str.lower()\n",
    "\n",
    "# Get value counts of the cleaned-up 'Button' column and sort by index\n",
    "lettercount_df = lettercount_df['Button'].value_counts().sort_index().sort_values(ascending=False)\n",
    "\n",
    "# Create a bar plot\n",
    "plt.figure(figsize=(10, 5))\n",
    "plt.bar(lettercount_df.index, lettercount_df.values, color=\"skyblue\")\n",
    "\n",
    "# Add labels and title\n",
    "plt.xlabel(\"Letter\")\n",
    "plt.ylabel(\"Frequency\")\n",
    "plt.title(\"Letter Usage Frequency in Process\")\n",
    "plt.xticks(rotation=0)  # Keep letters horizontal\n",
    "\n",
    "# Show the plot\n",
    "plt.show()"
   ],
   "metadata": {
    "collapsed": false
   },
   "id": "174aaa6113f1dff1"
  },
  {
   "cell_type": "markdown",
   "source": [
    "## Read Discord messages"
   ],
   "metadata": {
    "collapsed": false
   },
   "id": "8c7f491baa4eb4ae"
  },
  {
   "cell_type": "markdown",
   "source": [
    "Putting together the messages 1 by 1 by using the enter presses as delimiter = message send. Saving them in a df for further use"
   ],
   "metadata": {
    "collapsed": false
   },
   "id": "5885b29e4af71e3f"
  },
  {
   "cell_type": "code",
   "execution_count": null,
   "outputs": [],
   "source": [
    "cleaned_buttons = []\n",
    "notWantedReconstruct = [\"alt\", \"LC\", \"RC\", \"CTRL\", \"esc\", \"Tab\", \"SH\", '\\'', '.','!']\n",
    "dfReconstruct = df[~df[\"Button\"].isin(notWantedReconstruct)]\n",
    "df_messages = pd.DataFrame(columns=[\"Message\"])\n",
    "\n",
    "# Simulate the backspace logic\n",
    "for button in dfReconstruct['Button']:\n",
    "    if button == \"<-\":\n",
    "        if cleaned_buttons:\n",
    "            cleaned_buttons.pop()  # Remove the last valid button\n",
    "    else:\n",
    "        cleaned_buttons.append(button)\n",
    "\n",
    "# Now reconstruct messages using Enter as delimiter\n",
    "messages = []\n",
    "current_message = []\n",
    "\n",
    "for button in cleaned_buttons:\n",
    "    if button.lower() == \"enter\":\n",
    "        if current_message:\n",
    "            message_str = ''.join(current_message)  # Turn list into single string\n",
    "            messages.append(message_str)\n",
    "            current_message = []\n",
    "    else:\n",
    "        current_message.append(button)\n",
    "\n",
    "# Add last message if Enter wasn't pressed at the end\n",
    "if current_message:\n",
    "    messages.append(''.join(current_message))\n",
    "\n",
    "# Convert to DataFrame where each row is one full message string\n",
    "df_messages = pd.DataFrame(messages, columns=[\"Message\"])\n",
    "df_messages\n",
    "\n",
    "# Print or save\n"
   ],
   "metadata": {
    "collapsed": false
   },
   "id": "b9eadc6d974bf180"
  }
 ],
 "metadata": {
  "kernelspec": {
   "display_name": "Python 3",
   "language": "python",
   "name": "python3"
  },
  "language_info": {
   "codemirror_mode": {
    "name": "ipython",
    "version": 2
   },
   "file_extension": ".py",
   "mimetype": "text/x-python",
   "name": "python",
   "nbconvert_exporter": "python",
   "pygments_lexer": "ipython2",
   "version": "2.7.6"
  }
 },
 "nbformat": 4,
 "nbformat_minor": 5
}
