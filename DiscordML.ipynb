{
 "cells": [
  {
   "cell_type": "markdown",
   "id": "0",
   "metadata": {},
   "source": [
    "# Analyzing Discord Messages "
   ]
  },
  {
   "cell_type": "markdown",
   "id": "1",
   "metadata": {},
   "source": [
    "Connects to the DB and turns it into a Pandas Dataframe"
   ]
  },
  {
   "cell_type": "code",
   "execution_count": null,
   "id": "2",
   "metadata": {},
   "outputs": [],
   "source": [
    "import pandas as pd\n",
    "import matplotlib.pyplot as plt\n",
    "import sqlite3\n",
    "\n",
    "db_path = \"Database.db\"\n",
    "\n",
    "conn = sqlite3.connect(db_path)\n",
    "\n",
    "df = pd.read_sql(\"SELECT * FROM messages\", conn)\n",
    "df = df.rename(columns={'message': 'Button'})\n",
    "\n",
    "conn.close()\n",
    "df.head()"
   ]
  },
  {
   "cell_type": "markdown",
   "id": "3",
   "metadata": {},
   "source": [
    "Check all unique values -> See which ones we want to sort out"
   ]
  },
  {
   "cell_type": "code",
   "execution_count": null,
   "id": "4",
   "metadata": {},
   "outputs": [],
   "source": [
    "df[\"Button\"].unique()"
   ]
  },
  {
   "cell_type": "markdown",
   "id": "5",
   "metadata": {},
   "source": [
    "Replaces certain key values for readability reasons"
   ]
  },
  {
   "cell_type": "code",
   "execution_count": null,
   "id": "6",
   "metadata": {},
   "outputs": [],
   "source": [
    "button_replacements = {\n",
    "    \"Button.left\": \"LC\",  # Change left click to \"LC\"\n",
    "    \"Button.right\": \"RC\",  # Change right click to \"RC\"\n",
    "    \"Key.space\": \" \",\n",
    "    \"Key.enter\": \"Enter\",\n",
    "    \"Key.tab\":\"Tab\",\n",
    "    \"Key.backspace\": \"<-\",\n",
    "    \"Key.ctrl_l\": \"CTRL\",\n",
    "    \"Key.alt_l\": \"alt\",\n",
    "    \"Key.shift\": \"SH\",\n",
    "    \"Button.x1\": \"M1\",\n",
    "    \"Button.middle\": \"mid\",\n",
    "    \"Key.esc\": \"esc\"\n",
    "}\n",
    "def transform_button_name(button):\n",
    "    return button_replacements.get(button, button)\n",
    "\n",
    "df['Button'] = df['Button'].apply(transform_button_name)\n",
    "df"
   ]
  },
  {
   "cell_type": "markdown",
   "id": "7",
   "metadata": {},
   "source": [
    "## Plotting amount of presses per Button"
   ]
  },
  {
   "cell_type": "markdown",
   "id": "8",
   "metadata": {},
   "source": [
    "Creating a List of buttons we do not care about, basically all non letters/numbers that don't show up in actual messages + symbols\n",
    "remove characters from that list from our dataframe to plot its updated values now"
   ]
  },
  {
   "cell_type": "code",
   "execution_count": null,
   "id": "9",
   "metadata": {},
   "outputs": [],
   "source": [
    "# Non letter character list\n",
    "notWanted = [\"alt\", \"LC\", \"RC\", \"CTRL\", \"esc\", \"Tab\", \"SH\", \"Enter\", \"<-\", \" \", '.','?','!']\n",
    "# Create lettercount_df = Filter out the notWanted list\n",
    "lettercount_df = df[~df[\"Button\"].isin(notWanted)]\n",
    "lettercount_df['Button'] = lettercount_df['Button'].str.lower()\n",
    "\n",
    "# Get value counts of the cleaned-up 'Button' column and sort by index\n",
    "lettercount_df = lettercount_df['Button'].value_counts().sort_index().sort_values(ascending=False)\n",
    "\n",
    "# Create a bar plot\n",
    "plt.figure(figsize=(10, 5))\n",
    "plt.bar(lettercount_df.index, lettercount_df.values, color=\"skyblue\")\n",
    "\n",
    "# Add labels and title\n",
    "plt.xlabel(\"Letter\")\n",
    "plt.ylabel(\"Frequency\")\n",
    "plt.title(\"Letter Usage Frequency in Process\")\n",
    "plt.xticks(rotation=0)  # Keep letters horizontal\n",
    "\n",
    "# Show the plot\n",
    "plt.show()"
   ]
  },
  {
   "cell_type": "markdown",
   "id": "10",
   "metadata": {},
   "source": [
    "## Read Discord messages"
   ]
  },
  {
   "cell_type": "markdown",
   "id": "11",
   "metadata": {},
   "source": [
    "Putting together the messages 1 by 1 by using the enter presses as delimiter = message send. Saving them in a df for further use\n",
    "also accounts for backspaces and ctrl + a + backspace, technically could still be messed up by ctrl + a + any other letter, still needs some finetuning"
   ]
  },
  {
   "cell_type": "code",
   "execution_count": null,
   "id": "12",
   "metadata": {},
   "outputs": [],
   "source": [
    "cleaned_buttons = []\n",
    "notWantedReconstruct = [\"alt\", \"LC\", \"RC\", \"esc\", \"CTRL\",\"Tab\", \"SH\", '.','!']\n",
    "dfReconstruct = df[~df[\"Button\"].isin(notWantedReconstruct)]\n",
    "df_messages = pd.DataFrame(columns=[\"Message\"])\n",
    "\n",
    "# Simulate the backspace logic\n",
    "for button in dfReconstruct['Button']:\n",
    "    if button == \"<-\":\n",
    "        if cleaned_buttons:\n",
    "            if (cleaned_buttons[-1] != '\\x01'):\n",
    "                cleaned_buttons.pop()\n",
    "    else:\n",
    "        cleaned_buttons.append(button)\n",
    "\n",
    "# Now reconstruct messages using Enter as delimiter\n",
    "messages = []\n",
    "current_message = []\n",
    "\n",
    "for button in cleaned_buttons:\n",
    "    if button == '\\x01':\n",
    "        current_message = []\n",
    "        \n",
    "    elif button.lower() == \"enter\":\n",
    "        if current_message:\n",
    "            message_str = ''.join(current_message)  # Turn list into single string\n",
    "            messages.append(message_str)\n",
    "            current_message = []\n",
    "    else:\n",
    "        current_message.append(button)\n",
    "\n",
    "# Add last message if Enter wasn't pressed at the end\n",
    "if current_message:\n",
    "    messages.append(''.join(current_message))\n",
    "\n",
    "# Convert to DataFrame where each row is one full message string\n",
    "df_messages = pd.DataFrame(messages, columns=[\"Message\"])\n",
    "df_messages\n",
    "\n",
    "# Print or save\n"
   ]
  },
  {
   "cell_type": "markdown",
   "id": "13",
   "metadata": {},
   "source": [
    "Autocorrects the new Messages df. Semi important as it doesn't know modern abbreviations sometimes, still worth it"
   ]
  },
  {
   "cell_type": "code",
   "execution_count": null,
   "id": "14",
   "metadata": {},
   "outputs": [],
   "source": [
    "from spellchecker import SpellChecker\n",
    "\n",
    "spell = SpellChecker()\n",
    "\n",
    "# Function to correct a full message\n",
    "def correct_message(msg):\n",
    "    words = msg.split()\n",
    "    corrected_words = []\n",
    "    for word in words:\n",
    "        corrected = spell.correction(word)\n",
    "        corrected_words.append(corrected if corrected else word)\n",
    "    return ' '.join(corrected_words)\n",
    "\n",
    "\n",
    "# Apply the correction to the entire column\n",
    "df_messages['Corrected_Message'] = df_messages['Message'].apply(correct_message)"
   ]
  },
  {
   "cell_type": "code",
   "execution_count": null,
   "id": "15",
   "metadata": {},
   "outputs": [],
   "source": [
    "df_messages"
   ]
  },
  {
   "cell_type": "code",
   "execution_count": null,
   "id": "16",
   "metadata": {},
   "outputs": [],
   "source": []
  }
 ],
 "metadata": {
  "kernelspec": {
   "display_name": "Python 3",
   "language": "python",
   "name": "python3"
  },
  "language_info": {
   "codemirror_mode": {
    "name": "ipython",
    "version": 2
   },
   "file_extension": ".py",
   "mimetype": "text/x-python",
   "name": "python",
   "nbconvert_exporter": "python",
   "pygments_lexer": "ipython2",
   "version": "2.7.6"
  }
 },
 "nbformat": 4,
 "nbformat_minor": 5
}
