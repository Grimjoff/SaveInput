{
 "cells": [
  {
   "cell_type": "markdown",
   "id": "0",
   "metadata": {},
   "source": [
    "# Analyzing Discord Messages "
   ]
  },
  {
   "cell_type": "markdown",
   "id": "1",
   "metadata": {},
   "source": [
    "Connects to the DB and turns it into a Pandas Dataframe"
   ]
  },
  {
   "cell_type": "code",
   "execution_count": null,
   "id": "2",
   "metadata": {},
   "outputs": [],
   "source": [
    "import pandas as pd\n",
    "import matplotlib.pyplot as plt\n",
    "import sqlite3\n",
    "\n",
    "db_path = \"Database.db\"\n",
    "\n",
    "conn = sqlite3.connect(db_path)\n",
    "\n",
    "df = pd.read_sql(\"SELECT * FROM messages\", conn)\n",
    "df = df.rename(columns={'message': 'Button'})\n",
    "\n",
    "conn.close()\n",
    "df.head()\n",
    "pd.options.mode.chained_assignment = None"
   ]
  },
  {
   "cell_type": "markdown",
   "id": "3",
   "metadata": {},
   "source": [
    "Check all unique values -> See which ones we want to sort out"
   ]
  },
  {
   "cell_type": "code",
   "execution_count": null,
   "id": "4",
   "metadata": {},
   "outputs": [],
   "source": [
    "df[\"Button\"].unique()"
   ]
  },
  {
   "cell_type": "markdown",
   "id": "5",
   "metadata": {},
   "source": [
    "Replaces certain key values for readability reasons"
   ]
  },
  {
   "cell_type": "code",
   "execution_count": null,
   "id": "6",
   "metadata": {},
   "outputs": [],
   "source": [
    "button_replacements = {\n",
    "    \"Button.left\": \"LC\",  # Change left click to \"LC\"\n",
    "    \"Button.right\": \"RC\",  # Change right click to \"RC\"\n",
    "    \"Key.space\": \" \",\n",
    "    \"Key.enter\": \"Enter\",\n",
    "    \"Key.tab\":\"Tab\",\n",
    "    \"Key.backspace\": \"<-\",\n",
    "    \"Key.ctrl_l\": \"CTRL\",\n",
    "    \"Key.alt_l\": \"alt\",\n",
    "    \"Key.shift\": \"SH\",\n",
    "    \"Button.x1\": \"M1\",\n",
    "    \"Button.middle\": \"mid\",\n",
    "    \"Key.esc\": \"esc\"\n",
    "}\n",
    "def transform_button_name(button):\n",
    "    return button_replacements.get(button, button)\n",
    "\n",
    "df['Button'] = df['Button'].apply(transform_button_name)\n",
    "df"
   ]
  },
  {
   "cell_type": "markdown",
   "id": "7",
   "metadata": {},
   "source": [
    "## Plotting amount of presses per Button"
   ]
  },
  {
   "cell_type": "markdown",
   "id": "8",
   "metadata": {},
   "source": [
    "Creating a List of buttons we do not care about, basically all non letters/numbers that don't show up in actual messages + symbols\n",
    "remove characters from that list from our dataframe to plot its updated values now"
   ]
  },
  {
   "cell_type": "code",
   "execution_count": null,
   "id": "9",
   "metadata": {},
   "outputs": [],
   "source": [
    "# Non letter character list\n",
    "notWanted = [\"alt\", \"LC\", \"RC\", \"CTRL\", \"esc\", \"Tab\", \"SH\", \"Enter\", \"<-\", \" \", '.','?','!']\n",
    "# Create lettercount_df = Filter out the notWanted list\n",
    "lettercount_df = df[~df[\"Button\"].isin(notWanted)]\n",
    "lettercount_df['Button'] = lettercount_df['Button'].str.lower()\n",
    "\n",
    "# Get value counts of the cleaned-up 'Button' column and sort by index\n",
    "lettercount_df = lettercount_df['Button'].value_counts().sort_index().sort_values(ascending=False)\n",
    "\n",
    "# Create a bar plot\n",
    "plt.figure(figsize=(10, 5))\n",
    "plt.bar(lettercount_df.index, lettercount_df.values, color=\"skyblue\")\n",
    "\n",
    "# Add labels and title\n",
    "plt.xlabel(\"Letter\")\n",
    "plt.ylabel(\"Frequency\")\n",
    "plt.title(\"Letter Usage Frequency in Process\")\n",
    "plt.xticks(rotation=0)  # Keep letters horizontal\n",
    "\n",
    "# Show the plot\n",
    "plt.show()"
   ]
  },
  {
   "cell_type": "markdown",
   "id": "10",
   "metadata": {},
   "source": [
    "## Read Discord messages"
   ]
  },
  {
   "cell_type": "markdown",
   "id": "11",
   "metadata": {},
   "source": [
    "Putting together the messages 1 by 1 by using the enter presses as delimiter = message send. Saving them in a df for further use\n",
    "also accounts for backspaces and ctrl + a + backspace, technically could still be messed up by ctrl + a + any other letter, still needs some finetuning"
   ]
  },
  {
   "cell_type": "code",
   "execution_count": null,
   "id": "12",
   "metadata": {},
   "outputs": [],
   "source": [
    "import time\n",
    "cleaned_buttons = []\n",
    "notWantedReconstruct = [\"alt\", \"LC\", \"RC\", \"esc\", \"CTRL\",\"Tab\", \"SH\", '.','!']\n",
    "dfReconstruct = df[~df[\"Button\"].isin(notWantedReconstruct)]\n",
    "df_messages = pd.DataFrame(columns=[\"Message\",\"timeTaken\"])\n",
    "\n",
    "# Simulate the backspace logic\n",
    "for idx, row in dfReconstruct.iterrows():\n",
    "    button = row['Button']\n",
    "    press_time = row['press_time']\n",
    "    release_time = row['release_time'] \n",
    "    if button == \"<-\":\n",
    "        if cleaned_buttons:\n",
    "            if cleaned_buttons[-1][0] != '\\x01':  # Avoid removing '\\x01'\n",
    "                cleaned_buttons.pop()\n",
    "    else:\n",
    "        cleaned_buttons.append((button, press_time, release_time))  # Save both button and timestamp\n",
    "\n",
    "# Reconstruct messages and calculate time taken\n",
    "messages = []\n",
    "message_times = []\n",
    "current_message = []\n",
    "start_time = None  # To track when a message starts\n",
    "\n",
    "for button, press_time, release_time in cleaned_buttons:\n",
    "    if button == '\\x01':  # Indicates clear/reset\n",
    "        current_message = []\n",
    "        start_time = None\n",
    "\n",
    "    elif button.lower() == \"enter\":  # End of a message\n",
    "        if current_message:\n",
    "            message_str = ''.join(current_message)\n",
    "            messages.append(message_str)\n",
    "\n",
    "            # Calculate the time taken for the message\n",
    "            if start_time is not None:\n",
    "                time_taken = release_time - start_time\n",
    "            else:\n",
    "                time_taken = None  # If no start time, fallback to None\n",
    "\n",
    "            message_times.append(time_taken)\n",
    "            current_message = []\n",
    "            start_time = None  # Reset timer\n",
    "\n",
    "    else:\n",
    "        if not current_message:  # First character in a new message\n",
    "            start_time = press_time\n",
    "        current_message.append(button)\n",
    "\n",
    "# Handle a message if Enter wasn't pressed at the end\n",
    "if current_message:\n",
    "    current_message = []\n",
    "\n",
    "# Create DataFrame\n",
    "df_messages = pd.DataFrame({\n",
    "    \"Message\": messages,\n",
    "    \"TimeTaken\": message_times\n",
    "})\n",
    "\n",
    "df_messages"
   ]
  },
  {
   "cell_type": "markdown",
   "id": "13",
   "metadata": {},
   "source": [
    "Autocorrects the new Messages df. Semi important as it doesn't know modern abbreviations sometimes, still worth it"
   ]
  },
  {
   "cell_type": "code",
   "execution_count": null,
   "id": "14",
   "metadata": {},
   "outputs": [],
   "source": [
    "from spellchecker import SpellChecker\n",
    "\n",
    "spell = SpellChecker()\n",
    "\n",
    "# Function to correct a full message\n",
    "def correct_message(msg):\n",
    "    words = msg.split()\n",
    "    corrected_words = []\n",
    "    for word in words:\n",
    "        corrected = spell.correction(word)\n",
    "        corrected_words.append(corrected if corrected else word)\n",
    "    return ' '.join(corrected_words)\n",
    "\n",
    "\n",
    "# Apply the correction to the entire column\n",
    "df_messages['Corrected_Message'] = df_messages['Message'].apply(correct_message)"
   ]
  },
  {
   "cell_type": "code",
   "execution_count": null,
   "id": "15",
   "metadata": {},
   "outputs": [],
   "source": [
    "df_messages"
   ]
  },
  {
   "cell_type": "code",
   "execution_count": null,
   "id": "16",
   "metadata": {},
   "outputs": [],
   "source": [
    "df_dt = dfReconstruct\n",
    "df_dt['dwell_time'] = df_dt['release_time'] - df_dt['press_time']\n",
    "average_a_dwell = df_dt[df_dt['Button'] == 'a']['dwell_time'].mean()\n",
    "print(f\"Average dwell time for 'a': {average_a_dwell}\")\n"
   ]
  },
  {
   "cell_type": "code",
   "execution_count": null,
   "id": "17",
   "metadata": {},
   "outputs": [],
   "source": [
    "df_dt = dfReconstruct\n",
    "df_dt['dwell_time'] = df_dt['release_time'] - df_dt['press_time']\n",
    "average_a_dwell = df_dt[df_dt['Button'] == 'b']['dwell_time'].min()\n",
    "print(f\"Average dwell time for 'b': {average_a_dwell}\")\n"
   ]
  },
  {
   "cell_type": "code",
   "execution_count": null,
   "id": "18",
   "metadata": {},
   "outputs": [],
   "source": []
  }
 ],
 "metadata": {
  "kernelspec": {
   "display_name": "Python 3",
   "language": "python",
   "name": "python3"
  },
  "language_info": {
   "codemirror_mode": {
    "name": "ipython",
    "version": 2
   },
   "file_extension": ".py",
   "mimetype": "text/x-python",
   "name": "python",
   "nbconvert_exporter": "python",
   "pygments_lexer": "ipython2",
   "version": "2.7.6"
  }
 },
 "nbformat": 4,
 "nbformat_minor": 5
}
