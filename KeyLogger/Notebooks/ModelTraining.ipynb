{
 "cells": [
  {
   "cell_type": "markdown",
   "id": "0",
   "metadata": {},
   "source": [
    "### Don't feel like cleaning out the other Notebook, this will import a db from my PC and from my Laptop, hoping that a model could see the difference and sort of treat it like a different user/recognize it"
   ]
  },
  {
   "cell_type": "code",
   "execution_count": null,
   "id": "1",
   "metadata": {},
   "outputs": [],
   "source": [
    "import pandas as pd\n",
    "import sqlite3\n",
    "import warnings\n",
    "warnings.filterwarnings(\"ignore\", category=UserWarning, module=\"xgboost\")\n",
    "\n",
    "dfPC = pd.read_sql(\"SELECT * FROM TransformedData\", sqlite3.connect(\"../data/transformed_outputPC.db\"))\n",
    "dfLaptop = pd.read_sql(\"SELECT * FROM TransformedData\", sqlite3.connect(\"../data/transformed_outputLaptop.db\"))\n",
    "\n",
    "\n",
    "\n",
    "df_total = pd.concat([dfPC, dfLaptop])\n",
    "#dfPctest = df_total.iloc[[33]]\n",
    "#df_total = df_total.drop(df_total.index[33])\n",
    "#dfLaptoptest = df_total.iloc[[84]]\n",
    "#df_total = df_total.drop(df_total.index[84])"
   ]
  },
  {
   "cell_type": "code",
   "execution_count": null,
   "id": "2",
   "metadata": {},
   "outputs": [],
   "source": [
    "from sklearn.model_selection import train_test_split\n",
    "from sklearn.preprocessing import LabelEncoder\n",
    "le = LabelEncoder()\n",
    "\n",
    "X = df_total.drop(columns=[\"user_id\", \"message_id\"])\n",
    "y = le.fit_transform(df_total['user_id'])  # y will now be numeric\n",
    "\n",
    "X_train, X_test, y_train, y_test = train_test_split(X, y, test_size=0.2, random_state=45)"
   ]
  },
  {
   "cell_type": "code",
   "execution_count": null,
   "id": "3",
   "metadata": {},
   "outputs": [],
   "source": [
    "import xgboost as xgb\n",
    "from sklearn.model_selection import cross_val_score, StratifiedKFold\n",
    "from sklearn.metrics import make_scorer, f1_score\n",
    "\n",
    "model = xgb.XGBClassifier(use_label_encoder=False, eval_metric='mlogloss', random_state=42)\n",
    "\n",
    "# Use stratified k-fold to maintain class balance\n",
    "cv = StratifiedKFold(n_splits=5, shuffle=True, random_state=42)\n",
    "\n",
    "# Define F1 scorer\n",
    "f1 = make_scorer(f1_score, average='macro')\n",
    "\n",
    "# Cross-validate and get F1 scores\n",
    "f1_scores = cross_val_score(model, X, y, scoring=f1, cv=cv)\n",
    "model.fit(X_train, y_train)\n",
    "\n",
    "print(\"F1 scores per fold:\", f1_scores)\n",
    "print(\"Mean F1 score:\", f1_scores.mean())"
   ]
  },
  {
   "cell_type": "markdown",
   "id": "4",
   "metadata": {},
   "source": [
    "### Incase you forget \n",
    "Precision = How many predictions of Class X where actually class X\n",
    "Recall = How many instances of class X where correctly predicted (false negatives included)\n",
    "F1-Score = balance between the first 2, balancing false negatives and false positives\n",
    "Support = How many of Class X were in the dataset"
   ]
  },
  {
   "cell_type": "code",
   "execution_count": null,
   "id": "5",
   "metadata": {},
   "outputs": [],
   "source": [
    "from sklearn.metrics import classification_report\n",
    "y_pred = model.predict(X_test)\n",
    "print(classification_report(y_test, y_pred))"
   ]
  },
  {
   "cell_type": "markdown",
   "id": "6",
   "metadata": {},
   "source": [
    "### Support of 10/11 is very small still, but it shows some kind of promise. The Model is not just randomly doing things, it actually has a solid result at this stage, You can't see this but its recall for the 2 classes that currently exist are 0.73 and 0.82"
   ]
  },
  {
   "cell_type": "code",
   "execution_count": null,
   "id": "7",
   "metadata": {},
   "outputs": [],
   "source": []
  }
 ],
 "metadata": {
  "kernelspec": {
   "display_name": "Python 3",
   "language": "python",
   "name": "python3"
  },
  "language_info": {
   "codemirror_mode": {
    "name": "ipython",
    "version": 2
   },
   "file_extension": ".py",
   "mimetype": "text/x-python",
   "name": "python",
   "nbconvert_exporter": "python",
   "pygments_lexer": "ipython2",
   "version": "2.7.6"
  }
 },
 "nbformat": 4,
 "nbformat_minor": 5
}
