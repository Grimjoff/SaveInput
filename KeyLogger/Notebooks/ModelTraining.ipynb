{
 "cells": [
  {
   "cell_type": "markdown",
   "id": "0",
   "metadata": {},
   "source": [
    "### This is where the ML happens\n",
    "first import all our different dataframes and concat them all, currently 2 with data from my PC and 1 from my Laptop, hoping the model will be able to tell the difference"
   ]
  },
  {
   "cell_type": "code",
   "execution_count": null,
   "id": "1",
   "metadata": {},
   "outputs": [],
   "source": [
    "import pandas as pd\n",
    "import sqlite3\n",
    "import warnings\n",
    "warnings.filterwarnings(\"ignore\", category=UserWarning, module=\"xgboost\")\n",
    "\n",
    "dfPC = pd.read_sql(\"SELECT * FROM TransformedData\", sqlite3.connect(\"../data/transformed_outputPC.db\"))\n",
    "dfLaptop = pd.read_sql(\"SELECT * FROM TransformedData\", sqlite3.connect(\"../data/transformed_outputLaptop.db\"))\n",
    "dfPCnew = pd.read_sql(\"SELECT * FROM TransformedData\", sqlite3.connect(\"../data/transformed_outputPCnew.db\"))\n",
    "\n",
    "\n",
    "df_total = pd.concat([dfPC, dfPCnew, dfLaptop])"
   ]
  },
  {
   "cell_type": "markdown",
   "id": "2",
   "metadata": {},
   "source": [
    "#### Feature test\n",
    "Dataframe already has a lot of features at this point, still adding a words per minute column, filtering out extremely low wpm and high typing_duration values."
   ]
  },
  {
   "cell_type": "markdown",
   "id": "3",
   "metadata": {},
   "source": []
  },
  {
   "cell_type": "code",
   "execution_count": null,
   "id": "4",
   "metadata": {},
   "outputs": [],
   "source": [
    "import numpy as np\n",
    "df_total['wpm'] = (df_total['word_count'] / df_total['typing_duration'] * 60)\n",
    "df_total.loc[df_total['wpm'] < 10, 'wpm'] = np.nan\n",
    "df_total.loc[df_total['typing_duration'] > 100, 'typing_duration'] = np.nan"
   ]
  },
  {
   "cell_type": "markdown",
   "id": "5",
   "metadata": {},
   "source": [
    "Preparing the data for the model, message_id is not needed and user_id is what we want to predict.\n",
    "20% test data"
   ]
  },
  {
   "cell_type": "code",
   "execution_count": null,
   "id": "6",
   "metadata": {},
   "outputs": [],
   "source": [
    "from sklearn.model_selection import train_test_split\n",
    "from sklearn.preprocessing import LabelEncoder\n",
    "le = LabelEncoder()\n",
    "\n",
    "X = df_total.drop(columns=[\"user_id\", \"message_id\"])\n",
    "y = le.fit_transform(df_total['user_id'])  # y will now be numeric\n",
    "\n",
    "X_train, X_test, y_train, y_test = train_test_split(X, y, test_size=0.2, random_state=48)"
   ]
  },
  {
   "cell_type": "markdown",
   "id": "7",
   "metadata": {},
   "source": [
    "Chose to do a XGBoost for this, initializing it and training it"
   ]
  },
  {
   "cell_type": "code",
   "execution_count": null,
   "id": "8",
   "metadata": {},
   "outputs": [],
   "source": [
    "import xgboost as xgb\n",
    "from sklearn.model_selection import cross_val_score, StratifiedKFold\n",
    "from sklearn.metrics import make_scorer, f1_score\n",
    "\n",
    "model = xgb.XGBClassifier(use_label_encoder=False, eval_metric='mlogloss', random_state=42)\n",
    "\n",
    "# Use stratified k-fold to maintain class balance\n",
    "cv = StratifiedKFold(n_splits=5, shuffle=True, random_state=42)\n",
    "\n",
    "# Define F1 scorer\n",
    "f1 = make_scorer(f1_score, average='macro')\n",
    "\n",
    "# Cross-validate and get F1 scores\n",
    "f1_scores = cross_val_score(model, X, y, scoring=f1, cv=cv, error_score='raise')\n",
    "model.fit(X_train, y_train)\n",
    "\n",
    "print(\"F1 scores per fold:\", f1_scores)\n",
    "print(\"Mean F1 score:\", f1_scores.mean())"
   ]
  },
  {
   "cell_type": "markdown",
   "id": "9",
   "metadata": {},
   "source": [
    "### In case you forget \n",
    "Precision = How many predictions of Class X where actually class X\n",
    "Recall = How many instances of class X where correctly predicted (false negatives included)\n",
    "F1-Score = balance between the first 2, balancing false negatives and false positives\n",
    "Support = How many of Class X were in the dataset\n",
    "### At this stage its a bit hard to tell still because my sample size is extremely low. (29 and 13)  Class 0 has a f1-score of 0.89 and Class 1 of 0.67, Class 1 just struggles with recall (0.54). For now,  results do not seem too bad."
   ]
  },
  {
   "cell_type": "code",
   "execution_count": null,
   "id": "10",
   "metadata": {},
   "outputs": [],
   "source": [
    "from sklearn.metrics import classification_report\n",
    "y_pred = model.predict(X_test)\n",
    "print(classification_report(y_test, y_pred))"
   ]
  },
  {
   "cell_type": "markdown",
   "id": "11",
   "metadata": {},
   "source": [
    "Just taking a look at the averages of my 2 users out of interest"
   ]
  },
  {
   "cell_type": "code",
   "execution_count": null,
   "id": "12",
   "metadata": {},
   "outputs": [],
   "source": [
    "user_averages = df_total.groupby('user_id').mean(numeric_only=True)\n",
    "user_averages"
   ]
  },
  {
   "cell_type": "markdown",
   "id": "13",
   "metadata": {},
   "source": [
    "Visualizing the importance of the features. Most important feature is the avg_dwell of all buttons while the backspacing patters don't seem to matter at all -> Since its me, thats a patter that goes across plattform I assume"
   ]
  },
  {
   "cell_type": "code",
   "execution_count": null,
   "id": "14",
   "metadata": {},
   "outputs": [],
   "source": [
    "import matplotlib.pyplot as plt\n",
    "\n",
    "# Print raw importances\n",
    "print(model.feature_importances_)\n",
    "\n",
    "# Plot importances\n",
    "xgb.plot_importance(model)\n",
    "plt.show()"
   ]
  },
  {
   "cell_type": "markdown",
   "id": "15",
   "metadata": {},
   "source": [
    "Checking for the fastest words per minute in the data, not relevant"
   ]
  },
  {
   "cell_type": "code",
   "execution_count": null,
   "id": "16",
   "metadata": {},
   "outputs": [],
   "source": [
    "df_total.sort_values(by='wpm', ascending=True).head(100)  # lowest 10 values\n"
   ]
  },
  {
   "cell_type": "code",
   "execution_count": null,
   "id": "17",
   "metadata": {},
   "outputs": [],
   "source": []
  }
 ],
 "metadata": {
  "kernelspec": {
   "display_name": "Python 3",
   "language": "python",
   "name": "python3"
  },
  "language_info": {
   "codemirror_mode": {
    "name": "ipython",
    "version": 2
   },
   "file_extension": ".py",
   "mimetype": "text/x-python",
   "name": "python",
   "nbconvert_exporter": "python",
   "pygments_lexer": "ipython2",
   "version": "2.7.6"
  }
 },
 "nbformat": 4,
 "nbformat_minor": 5
}
