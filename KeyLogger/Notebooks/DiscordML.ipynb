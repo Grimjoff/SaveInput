{
 "cells": [
  {
   "cell_type": "markdown",
   "id": "0",
   "metadata": {},
   "source": [
    "# Analyzing Discord Messages "
   ]
  },
  {
   "cell_type": "markdown",
   "id": "1",
   "metadata": {},
   "source": [
    "Connects to the DB and turns it into a Pandas Dataframe"
   ]
  },
  {
   "cell_type": "code",
   "execution_count": null,
   "id": "2",
   "metadata": {},
   "outputs": [],
   "source": [
    "import pandas as pd\n",
    "import matplotlib.pyplot as plt\n",
    "import sqlite3\n",
    "\n",
    "db_path = \"../data/Database.db\"\n",
    "\n",
    "conn = sqlite3.connect(db_path)\n",
    "\n",
    "df = pd.read_sql(\"SELECT * FROM messages\", conn)\n",
    "df = df.rename(columns={'message': 'Button'})\n",
    "\n",
    "conn.close()\n",
    "pd.options.mode.chained_assignment = None"
   ]
  },
  {
   "cell_type": "markdown",
   "id": "3",
   "metadata": {},
   "source": [
    "Check all unique values -> See which ones we want to sort out"
   ]
  },
  {
   "cell_type": "code",
   "execution_count": null,
   "id": "4",
   "metadata": {},
   "outputs": [],
   "source": [
    "df[\"Button\"].unique()"
   ]
  },
  {
   "cell_type": "markdown",
   "id": "5",
   "metadata": {},
   "source": [
    "Replaces certain key values for readability reasons"
   ]
  },
  {
   "cell_type": "code",
   "execution_count": null,
   "id": "6",
   "metadata": {},
   "outputs": [],
   "source": [
    "button_replacements = {\n",
    "    \"Button.left\": \"LC\",  # Change left click to \"LC\"\n",
    "    \"Button.right\": \"RC\",  # Change right click to \"RC\"\n",
    "    \"Key.space\": \" \",\n",
    "    \"Key.enter\": \"Enter\",\n",
    "    \"Key.tab\":\"Tab\",\n",
    "    \"Key.backspace\": \"<-\",\n",
    "    \"Key.ctrl_l\": \"CTRL\",\n",
    "    \"Key.alt_l\": \"alt\",\n",
    "    \"Key.shift\": \"SH\",\n",
    "    \"Button.x1\": \"M1\",\n",
    "    \"Button.middle\": \"mid\",\n",
    "    \"Key.esc\": \"esc\"\n",
    "}\n",
    "def transform_button_name(button):\n",
    "    return button_replacements.get(button, button)\n",
    "\n",
    "df['Button'] = df['Button'].apply(transform_button_name)\n",
    "df"
   ]
  },
  {
   "cell_type": "markdown",
   "id": "7",
   "metadata": {},
   "source": [
    "## Plotting amount of presses per Button"
   ]
  },
  {
   "cell_type": "markdown",
   "id": "8",
   "metadata": {},
   "source": [
    "Creating a List of buttons we do not care about, basically all non letters/numbers that don't show up in actual messages + symbols\n",
    "remove characters from that list from our dataframe to plot its updated values now"
   ]
  },
  {
   "cell_type": "code",
   "execution_count": null,
   "id": "9",
   "metadata": {},
   "outputs": [],
   "source": [
    "# Non letter character list\n",
    "notWanted = [\"alt\", \"LC\", \"RC\", \"CTRL\", \"esc\", \"Tab\", \"SH\", \"Enter\", \"<-\", \" \", '.','?','!']\n",
    "# Create lettercount_df = Filter out the notWanted list\n",
    "lettercount_df = df[~df[\"Button\"].isin(notWanted)]\n",
    "lettercount_df['Button'] = lettercount_df['Button'].str.lower()\n",
    "\n",
    "# Get value counts of the cleaned-up 'Button' column and sort by index\n",
    "lettercount_df = lettercount_df['Button'].value_counts().sort_index().sort_values(ascending=False)\n",
    "\n",
    "# Create a bar plot\n",
    "plt.figure(figsize=(10, 5))\n",
    "plt.bar(lettercount_df.index, lettercount_df.values, color=\"skyblue\")\n",
    "\n",
    "# Add labels and title\n",
    "plt.xlabel(\"Letter\")\n",
    "plt.ylabel(\"Frequency\")\n",
    "plt.title(\"Letter Usage Frequency in Process\")\n",
    "plt.xticks(rotation=0)  # Keep letters horizontal\n",
    "\n",
    "# Show the plot\n",
    "plt.show()"
   ]
  },
  {
   "cell_type": "markdown",
   "id": "10",
   "metadata": {},
   "source": [
    "## Read Discord messages"
   ]
  },
  {
   "cell_type": "markdown",
   "id": "11",
   "metadata": {},
   "source": [
    "Putting together the messages 1 by 1 by using the enter presses as delimiter = message send. Saving them in a df for further use\n",
    "also accounts for backspaces and ctrl + a + backspace, technically could still be messed up by ctrl + a + any other letter, still needs some finetuning"
   ]
  },
  {
   "cell_type": "code",
   "execution_count": null,
   "id": "12",
   "metadata": {},
   "outputs": [],
   "source": [
    "import time\n",
    "cleaned_buttons = []\n",
    "notWantedReconstruct = [\"alt\", \"LC\", \"RC\", \"esc\", \"CTRL\",\"Tab\", \"SH\", '.','!']\n",
    "dfReconstruct = df[~df[\"Button\"].isin(notWantedReconstruct)]\n",
    "dfReconstruct = dfReconstruct.sort_values(by='press_time', ascending=True)\n",
    "df_messages = pd.DataFrame(columns=[\"Message\",\"timeTaken\"])\n",
    "\n",
    "# Simulate the backspace logic\n",
    "for idx, row in dfReconstruct.iterrows():\n",
    "    button = row['Button']\n",
    "    press_time = row['press_time']\n",
    "    release_time = row['release_time'] \n",
    "    if button == \"<-\":\n",
    "        if cleaned_buttons:\n",
    "            if cleaned_buttons[-1][0] != '\\x01':  # Avoid removing '\\x01'\n",
    "                cleaned_buttons.pop()\n",
    "    else:\n",
    "        cleaned_buttons.append((button, press_time, release_time))  # Save both button and timestamp\n",
    "\n",
    "# Reconstruct messages and calculate time taken\n",
    "messages = []\n",
    "message_times = []\n",
    "current_message = []\n",
    "start_time = None  # To track when a message starts\n",
    "\n",
    "for button, press_time, release_time in cleaned_buttons:\n",
    "    if button == '\\x01':  # Indicates clear/reset\n",
    "        current_message = []\n",
    "        start_time = None\n",
    "\n",
    "    elif button.lower() == \"enter\":  # End of a message\n",
    "        if current_message:\n",
    "            message_str = ''.join(current_message)\n",
    "            messages.append(message_str)\n",
    "\n",
    "            # Calculate the time taken for the message\n",
    "            if start_time is not None:\n",
    "                time_taken = release_time - start_time\n",
    "            else:\n",
    "                time_taken = None  # If no start time, fallback to None\n",
    "\n",
    "            message_times.append(time_taken)\n",
    "            current_message = []\n",
    "            start_time = None  # Reset timer\n",
    "\n",
    "    else:\n",
    "        if not current_message:  # First character in a new message\n",
    "            start_time = press_time\n",
    "        current_message.append(button)\n",
    "\n",
    "# Handle a message if Enter wasn't pressed at the end\n",
    "if current_message:\n",
    "    current_message = []\n",
    "\n",
    "# Create DataFrame\n",
    "df_messages = pd.DataFrame({\n",
    "    \"Message\": messages,\n",
    "    \"TimeTaken\": message_times\n",
    "})\n",
    "\n",
    "df_messages"
   ]
  },
  {
   "cell_type": "markdown",
   "id": "13",
   "metadata": {},
   "source": [
    "Autocorrects the new Messages df. Semi important as it doesn't know modern abbreviations sometimes, still worth it"
   ]
  },
  {
   "cell_type": "code",
   "execution_count": null,
   "id": "14",
   "metadata": {},
   "outputs": [],
   "source": [
    "from spellchecker import SpellChecker\n",
    "\n",
    "spell = SpellChecker()\n",
    "\n",
    "# Function to correct a full message\n",
    "def correct_message(msg):\n",
    "    words = msg.split()\n",
    "    corrected_words = []\n",
    "    for word in words:\n",
    "        corrected = spell.correction(word)\n",
    "        corrected_words.append(corrected if corrected else word)\n",
    "    return ' '.join(corrected_words)\n",
    "\n",
    "\n",
    "# Apply the correction to the entire column\n",
    "df_messages['Corrected_Message'] = df_messages['Message'].apply(correct_message)"
   ]
  },
  {
   "cell_type": "code",
   "execution_count": null,
   "id": "15",
   "metadata": {},
   "outputs": [],
   "source": [
    "df_messages"
   ]
  },
  {
   "cell_type": "code",
   "execution_count": null,
   "id": "16",
   "metadata": {},
   "outputs": [],
   "source": [
    "\n",
    "def transform_df(df):\n",
    "    # Filter out non-letters and problematic values\n",
    "    df['dwell_time'] = df['release_time'] - df['press_time']\n",
    "    df = df[df['dwell_time'] > 0]\n",
    "    df = df[df['Button'].str.isalpha()]  # keep only letters\n",
    "    df['is_enter'] = df['Button'].str.lower() == 'enter'\n",
    "    df['message_id'] = df['is_enter'].cumsum()\n",
    "\n",
    "# Set a constant user_id if you're analyzing your own data\n",
    "    df['user_id'] = 'Ben'\n",
    "\n",
    "# Drop the helper column if no longer needed\n",
    "    df.drop(columns=['is_enter'], inplace=True)\n",
    "    df = df[df['Button'].str.len() == 1]  # keep only single characters\n",
    "    all_keys = sorted(df['Button'].str.lower().unique())\n",
    "\n",
    "    feature_rows = []\n",
    "\n",
    "    for msg_id, group in df.groupby('message_id'):\n",
    "        row = {}\n",
    "        row['message_id'] = msg_id\n",
    "        row['user_id'] = group['user_id'].iloc[0]\n",
    "\n",
    "        row['message_length'] = len(group)\n",
    "        row['avg_dwell'] = group['dwell_time'].mean()\n",
    "        row['std_dwell'] = group['dwell_time'].std()\n",
    "        row['key_diversity'] = group['Button'].nunique()\n",
    "\n",
    "        # Optional: overall message timing\n",
    "        row['typing_duration'] = group['release_time'].max() - group['press_time'].min()\n",
    "\n",
    "        # Per-key dwell averages\n",
    "        group['Button'] = group['Button'].str.lower()\n",
    "        for key in all_keys:\n",
    "            key_dwell = group[group['Button'] == key]['dwell_time']\n",
    "            row[f'dwell_{key}'] = key_dwell.mean() if not key_dwell.empty else 0\n",
    "\n",
    "        feature_rows.append(row)\n",
    "\n",
    "    return pd.DataFrame(feature_rows)\n"
   ]
  },
  {
   "cell_type": "markdown",
   "id": "17",
   "metadata": {},
   "source": [
    "## Create dwell time per key feature table\n"
   ]
  },
  {
   "cell_type": "code",
   "execution_count": null,
   "id": "18",
   "metadata": {},
   "outputs": [],
   "source": [
    "df_dt = dfReconstruct\n",
    "df_dt = transform_df(df_dt)\n",
    "df_dt"
   ]
  },
  {
   "cell_type": "markdown",
   "id": "19",
   "metadata": {},
   "source": [
    "### Form messages with avg values using enter as delimiter again"
   ]
  },
  {
   "cell_type": "code",
   "execution_count": null,
   "id": "20",
   "metadata": {},
   "outputs": [],
   "source": [
    "df_dt['is_enter'] = df_dt['Button'].str.lower() == 'enter'\n",
    "df_dt['message_id'] = df_dt['is_enter'].cumsum()\n",
    "df_dt"
   ]
  },
  {
   "cell_type": "markdown",
   "id": "21",
   "metadata": {},
   "source": [
    "### Read in synthetic user data and concat it with my own"
   ]
  },
  {
   "cell_type": "code",
   "execution_count": null,
   "id": "22",
   "metadata": {},
   "outputs": [],
   "source": [
    "df_synthetic = pd.read_csv('../data/synthetic_typing_data.csv')\n",
    "df_synthetic"
   ]
  },
  {
   "cell_type": "code",
   "execution_count": null,
   "id": "23",
   "metadata": {},
   "outputs": [],
   "source": [
    "df_combine = pd.concat([df_dt, df_synthetic])\n",
    "df_combine = df_combine.fillna(0)\n",
    "df_combine"
   ]
  },
  {
   "cell_type": "markdown",
   "id": "24",
   "metadata": {},
   "source": [
    "## Now the model training starts"
   ]
  },
  {
   "cell_type": "markdown",
   "id": "25",
   "metadata": {},
   "source": [
    "### Splitting the table"
   ]
  },
  {
   "cell_type": "code",
   "execution_count": null,
   "id": "26",
   "metadata": {},
   "outputs": [],
   "source": [
    "from sklearn.model_selection import train_test_split\n",
    "from sklearn.preprocessing import LabelEncoder\n",
    "le = LabelEncoder()\n",
    "\n",
    "X = df_combine.drop(columns=[\"user_id\", \"message_id\"])\n",
    "y = le.fit_transform(df_combine['user_id'])  # y will now be numeric\n",
    "\n",
    "X_train, X_test, y_train, y_test = train_test_split(X, y, test_size=0.2, random_state=42)"
   ]
  },
  {
   "cell_type": "markdown",
   "id": "27",
   "metadata": {},
   "source": [
    "### Training the model"
   ]
  },
  {
   "cell_type": "code",
   "execution_count": null,
   "id": "28",
   "metadata": {},
   "outputs": [],
   "source": [
    "import xgboost as xgb\n",
    "model = xgb.XGBClassifier(use_label_encoder=False, eval_metric='mlogloss')\n",
    "model.fit(X_train, y_train)"
   ]
  },
  {
   "cell_type": "code",
   "execution_count": null,
   "id": "29",
   "metadata": {},
   "outputs": [],
   "source": [
    "from sklearn.metrics import classification_report\n",
    "y_pred = model.predict(X_test)\n",
    "print(classification_report(y_test, y_pred))"
   ]
  },
  {
   "cell_type": "code",
   "execution_count": null,
   "id": "30",
   "metadata": {},
   "outputs": [],
   "source": []
  }
 ],
 "metadata": {
  "kernelspec": {
   "display_name": "Python 3",
   "language": "python",
   "name": "python3"
  },
  "language_info": {
   "codemirror_mode": {
    "name": "ipython",
    "version": 2
   },
   "file_extension": ".py",
   "mimetype": "text/x-python",
   "name": "python",
   "nbconvert_exporter": "python",
   "pygments_lexer": "ipython2",
   "version": "2.7.6"
  }
 },
 "nbformat": 4,
 "nbformat_minor": 5
}
